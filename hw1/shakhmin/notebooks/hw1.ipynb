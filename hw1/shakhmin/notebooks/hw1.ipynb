{
 "cells": [
  {
   "cell_type": "code",
   "execution_count": 89,
   "metadata": {
    "scrolled": true
   },
   "outputs": [],
   "source": [
    "import org.apache.spark.ml.{Pipeline, PipelineModel, PipelineStage}\n",
    "import org.apache.spark.ml.evaluation.BinaryClassificationEvaluator\n",
    "import org.apache.spark.ml.classification.{LogisticRegression, LogisticRegressionModel, \n",
    "                                           DecisionTreeClassifier, DecisionTreeClassificationModel}\n",
    "import org.apache.spark.ml.tuning.{CrossValidator, ParamGridBuilder}\n",
    "import org.apache.spark.ml.feature.{VectorAssembler, ChiSqSelector, ChiSqSelectorModel}"
   ]
  },
  {
   "cell_type": "markdown",
   "metadata": {},
   "source": [
    "## Загрузка данных"
   ]
  },
  {
   "cell_type": "code",
   "execution_count": 2,
   "metadata": {},
   "outputs": [
    {
     "data": {
      "text/plain": [
       "df = [feature_0: double, feature_1: double ... 99 more fields]\n",
       "train = [feature_0: double, feature_1: double ... 99 more fields]\n",
       "test = [feature_0: double, feature_1: double ... 99 more fields]\n"
      ]
     },
     "metadata": {},
     "output_type": "display_data"
    },
    {
     "data": {
      "text/plain": [
       "[feature_0: double, feature_1: double ... 99 more fields]"
      ]
     },
     "execution_count": 2,
     "metadata": {},
     "output_type": "execute_result"
    }
   ],
   "source": [
    "val df = spark\n",
    "    .read\n",
    "    .format(\"csv\")\n",
    "    .option(\"header\", \"true\")\n",
    "    .option(\"inferSchema\", \"true\")\n",
    "    .load(\"../data/ml_dataset.csv\")\n",
    "val Array(train, test) = df.randomSplit(Array(0.7, 0.3))"
   ]
  },
  {
   "cell_type": "markdown",
   "metadata": {},
   "source": [
    "## Построение _Pipeline_"
   ]
  },
  {
   "cell_type": "code",
   "execution_count": 95,
   "metadata": {},
   "outputs": [
    {
     "data": {
      "text/plain": [
       "assembler = vecAssembler_3e4ce6015641\n",
       "selector = chiSqSelector_0dc70a08c59b\n",
       "lr = logreg_93aac47a6711\n",
       "dt = dtc_d55867357d5c\n",
       "pipeline = pipeline_914e39562cf3\n",
       "dtPipeline = Array(vecAssembler_3e4ce6015641, chiSqSelector_0dc70a08c59b, dtc_d55867357d5c)\n",
       "lrPipeline = Array(vecAssembler_3e4ce6015641, chiSqSelector_0dc70a08c59b, logreg_93aac47a6711)\n",
       "lrParamGrid = \n"
      ]
     },
     "metadata": {},
     "output_type": "display_data"
    },
    {
     "data": {
      "text/plain": [
       "Array({\n",
       "\tchiSqSelector_0dc70a08c59b-numTopFeatures: 5,\n",
       "\tlogreg_93aac47a6711-regPa...\n"
      ]
     },
     "metadata": {},
     "output_type": "display_data"
    }
   ],
   "source": [
    "// Объединение всех столбцов (кроме label) в один столбец features\n",
    "val assembler = new VectorAssembler()\n",
    "  .setInputCols(df.columns.slice(0, df.columns.size - 1))\n",
    "  .setOutputCol(\"features\")\n",
    "\n",
    "// Выбор наиболее релевантных признаков (столбец bestFeatures)\n",
    "val selector = new ChiSqSelector()\n",
    "  .setFeaturesCol(\"features\")\n",
    "  .setLabelCol(\"label\")\n",
    "  .setOutputCol(\"bestFeatures\")\n",
    "\n",
    "// Логистическая регрессия\n",
    "val lr = new LogisticRegression()\n",
    "    .setFeaturesCol(\"bestFeatures\")\n",
    "    .setLabelCol(\"label\")\n",
    "\n",
    "// Дерево принятия решений\n",
    "val dt = new DecisionTreeClassifier()\n",
    "    .setFeaturesCol(\"bestFeatures\")\n",
    "    .setLabelCol(\"label\")\n",
    "\n",
    "// Объявим пустой pipeline, поскольку параметр stages будет\n",
    "// добавлен как часть param grid. \n",
    "val pipeline = new Pipeline()\n",
    "\n",
    "// Посртроим массив stages и param grid для каждого pipeline \n",
    "val dtPipeline = Array[PipelineStage](assembler, selector, dt)\n",
    "val lrPipeline = Array[PipelineStage](assembler, selector, lr)\n",
    "\n",
    "val lrParamGrid = new ParamGridBuilder()\n",
    "    .baseOn(pipeline.stages -> lrPipeline)\n",
    "    .addGrid(lr.regParam, Array(1e-2, 5e-3, 1e-3, 5e-4, 1e-4))\n",
    "    .build()\n",
    "\n",
    "val dtParamGrid = new ParamGridBuilder()\n",
    "    .baseOn(pipeline.stages -> dtPipeline)\n",
    "    .addGrid(selector.numTopFeatures, (5 to 100 by 5).toArray)\n",
    "    .addGrid(dt.maxDepth, Array(5, 10, 20, 25, 30))\n",
    "    .build()\n",
    "\n",
    "// Поскольку ParamGridBuilder строит массив со всеми комбинациями \n",
    "// значений параметров, то можно объединить получившиеся массивы,\n",
    "// чтобы использовать param grid в кросс-валидации.\n",
    "val paramGrid = lrParamGrid ++ dtParamGrid\n",
    "\n",
    "// Кросс-валидация. В качестве Evaluator используем \n",
    "// BinaryClassificationEvaluator, чтобы сравнивать алгоритмы\n",
    "// с помощью метрики качества AUC.\n",
    "val cv = new CrossValidator()\n",
    "  .setEstimator(pipeline)\n",
    "  .setEvaluator(new BinaryClassificationEvaluator)\n",
    "  .setEstimatorParamMaps(paramGrid)\n",
    "  .setNumFolds(5)\n",
    "  .setParallelism(2)\n",
    "\n",
    "// Обучим pipeline на тренировочных данных\n",
    "val bestModel = cv.fit(train)"
   ]
  },
  {
   "cell_type": "markdown",
   "metadata": {},
   "source": [
    "### Параметры после кросс-валидации\n",
    "Лучшим в данном случае оказалось Дерево принятия решений"
   ]
  },
  {
   "cell_type": "code",
   "execution_count": 97,
   "metadata": {},
   "outputs": [
    {
     "name": "stdout",
     "output_type": "stream",
     "text": [
      "numTopFeatures = 100\n",
      "maxDepth = 20\n"
     ]
    },
    {
     "data": {
      "text/plain": [
       "bestPipelineModel = pipeline_914e39562cf3\n"
      ]
     },
     "metadata": {},
     "output_type": "display_data"
    },
    {
     "data": {
      "text/plain": [
       "lastException: Throwable = null\n"
      ]
     },
     "metadata": {},
     "output_type": "display_data"
    },
    {
     "data": {
      "text/plain": [
       "pipeline_914e39562cf3"
      ]
     },
     "execution_count": 97,
     "metadata": {},
     "output_type": "execute_result"
    }
   ],
   "source": [
    "val bestPipelineModel = bestModel.bestModel.asInstanceOf[PipelineModel]\n",
    "println(\"numTopFeatures = \" + bestPipelineModel.stages(1)\n",
    "        .asInstanceOf[ChiSqSelectorModel].getNumTopFeatures)\n",
    "println(\"maxDepth = \" + bestPipelineModel.stages(2)\n",
    "        .asInstanceOf[DecisionTreeClassificationModel].getMaxDepth)"
   ]
  },
  {
   "cell_type": "markdown",
   "metadata": {},
   "source": [
    "### Значение AUC"
   ]
  },
  {
   "cell_type": "code",
   "execution_count": 98,
   "metadata": {},
   "outputs": [
    {
     "name": "stdout",
     "output_type": "stream",
     "text": [
      "cross-validated areaUnderROC: 0.9015878663014567\n",
      "test areaUnderROC: 0.8874074084056929\n"
     ]
    }
   ],
   "source": [
    "println(\"cross-validated areaUnderROC: \" + bestModel.avgMetrics.max)\n",
    "println(\"test areaUnderROC: \" + eval.evaluate(bestModel.transform(test)))"
   ]
  },
  {
   "cell_type": "markdown",
   "metadata": {},
   "source": [
    "## Кросс-валидация для каждого классификатора\n",
    "Запустим кросс-валидацию для каждого pipeline в отдельности и сравним результаты"
   ]
  },
  {
   "cell_type": "code",
   "execution_count": 30,
   "metadata": {},
   "outputs": [
    {
     "name": "stdout",
     "output_type": "stream",
     "text": [
      "cross-validated areaUnderROC: 0.9015878663014567\n",
      "test areaUnderROC: 0.8874074084056929\n"
     ]
    },
    {
     "data": {
      "text/plain": [
       "tree = dtc_45c25a976099\n",
       "treeParamGrid = \n"
      ]
     },
     "metadata": {},
     "output_type": "display_data"
    },
    {
     "data": {
      "text/plain": [
       "lastException: Throwable = null\n",
       "Array({\n",
       "\tdtc_45c25a976099-maxDepth: 5,\n",
       "\tchiSqSelector_6792f86bd77b-numTopFeatures: 5\n",
       "}, {\n",
       "\tdtc_45c25a976099-maxDepth: 10,\n",
       "\tchiSqSelector_6792f86bd77b-numTopFeatures: 5\n",
       "}, {\n",
       "\tdtc_45c25a976099-maxDepth: 20,\n",
       "\tchiSqSelector_6792f86bd77b-numTopFeatures: 5\n",
       "}, {\n",
       "\tdtc_45c25a976099-maxDepth: 25,\n",
       "\tchiSqSelector_6792f86bd77b-numTopFeatures: 5\n",
       "}, {\n",
       "\tdtc_45c25a976099-maxDepth: 30,\n",
       "\tchiSqSelector_6792f86bd77b-numTopFeatures: 5\n",
       "}, {\n",
       "\tdtc_45c25a976099-maxDepth: 5,\n",
       "\tchiSqSelector_6792f86bd77b-numTopFeatures: 10\n",
       "}, {\n",
       "\tdtc_45c25a976099-maxDepth: 10,\n",
       "\tchiSqSelector_6792f86bd77b-numTopFeatures: 10\n",
       "}, {\n",
       "\tdtc_45c25a976099-maxDepth: 20,\n",
       "\tchiSqSelector_6792f86bd77b-numTop...\n"
      ]
     },
     "metadata": {},
     "output_type": "display_data"
    }
   ],
   "source": [
    "val tree = new DecisionTreeClassifier()\n",
    "    .setFeaturesCol(\"bestFeatures\")\n",
    "    .setLabelCol(\"label\")\n",
    "\n",
    "val treeParamGrid = new ParamGridBuilder()\n",
    "    .addGrid(selector.numTopFeatures, (5 to 100 by 5).toArray)\n",
    "    .addGrid(tree.maxDepth, Array(5, 10, 20, 25, 30))\n",
    "    .build()\n",
    "\n",
    "val treeCV = new CrossValidator()\n",
    "  .setEstimator(new Pipeline().setStages(Array(assembler, selector, tree)))\n",
    "  .setEvaluator(new BinaryClassificationEvaluator)\n",
    "  .setEstimatorParamMaps(treeParamGrid)\n",
    "  .setNumFolds(5)\n",
    "\n",
    "val treeCVModel = treeCV.fit(train)\n",
    "\n",
    "println(\"cross-validated areaUnderROC: \" + treeCVModel.avgMetrics.max)\n",
    "println(\"test areaUnderROC: \" + eval.evaluate(treeCVModel.transform(test)))"
   ]
  },
  {
   "cell_type": "code",
   "execution_count": 92,
   "metadata": {},
   "outputs": [
    {
     "name": "stdout",
     "output_type": "stream",
     "text": [
      "numTopFeatures = 100\n",
      "maxDepth = 20\n"
     ]
    },
    {
     "data": {
      "text/plain": [
       "treePipelineModel = pipeline_07a0f0470f33\n"
      ]
     },
     "metadata": {},
     "output_type": "display_data"
    },
    {
     "data": {
      "text/plain": [
       "pipeline_07a0f0470f33"
      ]
     },
     "execution_count": 92,
     "metadata": {},
     "output_type": "execute_result"
    }
   ],
   "source": [
    "val treePipelineModel = treeCVModel.bestModel.asInstanceOf[PipelineModel]\n",
    "println(\"numTopFeatures = \" + treePipelineModel.stages(1)\n",
    "        .asInstanceOf[ChiSqSelectorModel].getNumTopFeatures)\n",
    "println(\"maxDepth = \" + treePipelineModel.stages(2)\n",
    "        .asInstanceOf[DecisionTreeClassificationModel].getMaxDepth)"
   ]
  },
  {
   "cell_type": "code",
   "execution_count": 103,
   "metadata": {},
   "outputs": [
    {
     "name": "stdout",
     "output_type": "stream",
     "text": [
      "cross-validated areaUnderROC: 0.8654721967204286\n",
      "test areaUnderROC: 0.8582410281221541\n"
     ]
    },
    {
     "data": {
      "text/plain": [
       "lr1 = logreg_9f24d207d879\n",
       "lrParamGrid1 = \n"
      ]
     },
     "metadata": {},
     "output_type": "display_data"
    },
    {
     "data": {
      "text/plain": [
       "Array({\n",
       "\tchiSqSelector_0dc70a08c59b-numTopFeatures: 5,\n",
       "\tlogreg_9f24d207d879-regParam: 0.01\n",
       "}, {\n",
       "\tchiSqSelector_0dc70a08c59b-numTopFeatures: 5,\n",
       "\tlogreg_9f24d207d879-regParam: 0.005\n",
       "}, {\n",
       "\tchiSqSelector_0dc70a08c59b-numTopFeatures: 5,\n",
       "\tlogreg_9f24d207d879-regParam: 0.001\n",
       "}, {\n",
       "\tchiSqSelector_0dc70a08c59b-numTopFeatures: 5,\n",
       "\tlogreg_9f24d207d879-regParam: 5.0E-4\n",
       "}, {\n",
       "\tchiSqSelector_0dc70a08c59b-numTopFeatures: 5,\n",
       "\tlogreg_9f24d207d879-regParam: 1.0E-4\n",
       "}, {\n",
       "\tchiSqSelector_0dc70a08c59b-numTopFeatures: 10,\n",
       "\tlogreg_9f24d207d879-regParam: 0.01\n",
       "}, {\n",
       "\tchiSqSelector_0dc70a08c59b-numTopFeatures: 10,\n",
       "\tlogreg_9f24d207d879-regParam: 0.005\n",
       "}, {\n",
       "\tchiSqSelector_0dc70a08c5...\n"
      ]
     },
     "metadata": {},
     "output_type": "display_data"
    }
   ],
   "source": [
    "val lr1 = new LogisticRegression()\n",
    "    .setFeaturesCol(\"bestFeatures\")\n",
    "    .setLabelCol(\"label\")\n",
    "\n",
    "val lrParamGrid1 = new ParamGridBuilder()\n",
    "    .addGrid(selector.numTopFeatures, (5 to 100 by 5).toArray)\n",
    "    .addGrid(lr1.regParam, Array(1e-2, 5e-3, 1e-3, 5e-4, 1e-4))\n",
    "    .build()\n",
    "\n",
    "val lrCV = new CrossValidator()\n",
    "    .setEstimator(new Pipeline().setStages(Array(assembler, selector, lr1)))\n",
    "    .setEvaluator(new BinaryClassificationEvaluator)\n",
    "    .setEstimatorParamMaps(lrParamGrid1)\n",
    "    .setNumFolds(5)\n",
    "\n",
    "val lrCVModel = lrCV.fit(train)\n",
    "\n",
    "println(\"cross-validated areaUnderROC: \" + lrCVModel.avgMetrics.max)\n",
    "println(\"test areaUnderROC: \" + eval.evaluate(lrCVModel.transform(test)))"
   ]
  },
  {
   "cell_type": "code",
   "execution_count": 104,
   "metadata": {},
   "outputs": [
    {
     "name": "stdout",
     "output_type": "stream",
     "text": [
      "numTopFeatures = 40\n",
      "regParam = 0.005\n"
     ]
    },
    {
     "data": {
      "text/plain": [
       "pipeline_34b0a0d5f944"
      ]
     },
     "execution_count": 104,
     "metadata": {},
     "output_type": "execute_result"
    },
    {
     "data": {
      "text/plain": [
       "lrPipelineModel = pipeline_34b0a0d5f944\n"
      ]
     },
     "metadata": {},
     "output_type": "display_data"
    }
   ],
   "source": [
    "val lrPipelineModel = lrCVModel.bestModel.asInstanceOf[PipelineModel]\n",
    "println(\"numTopFeatures = \" + lrPipelineModel.stages(1)\n",
    "        .asInstanceOf[ChiSqSelectorModel].getNumTopFeatures)\n",
    "println(\"regParam = \" + lrPipelineModel.stages(2)\n",
    "        .asInstanceOf[LogisticRegressionModel].getRegParam)"
   ]
  },
  {
   "cell_type": "markdown",
   "metadata": {},
   "source": [
    "Видно, что у дерева принятия решений значение _AUC_ на тестовой выборке больше, чем у линейной регрессии. Но разница со значением _AUC_ на тренировочных данных может говорить о переобученности дерева."
   ]
  }
 ],
 "metadata": {
  "kernelspec": {
   "display_name": "Apache Toree - Scala",
   "language": "scala",
   "name": "apache_toree_scala"
  },
  "language_info": {
   "codemirror_mode": "text/x-scala",
   "file_extension": ".scala",
   "mimetype": "text/x-scala",
   "name": "scala",
   "pygments_lexer": "scala",
   "version": "2.11.12"
  }
 },
 "nbformat": 4,
 "nbformat_minor": 2
}
