{
 "cells": [
  {
   "cell_type": "code",
   "execution_count": 1,
   "metadata": {
    "scrolled": false
   },
   "outputs": [],
   "source": [
    "import org.apache.spark.sql.functions._\n",
    "import org.apache.spark.sql.expressions.Window"
   ]
  },
  {
   "cell_type": "markdown",
   "metadata": {},
   "source": [
    "## Подготовка данных"
   ]
  },
  {
   "cell_type": "code",
   "execution_count": 2,
   "metadata": {},
   "outputs": [
    {
     "name": "stdout",
     "output_type": "stream",
     "text": [
      "+-------+--------------------+-------------------+\n",
      "|summary|                  ua|           is_click|\n",
      "+-------+--------------------+-------------------+\n",
      "|  count|                 747|                747|\n",
      "|   mean|                null|0.49531459170013387|\n",
      "| stddev|                null| 0.5003130401706647|\n",
      "|    min|Mozilla/5.0 (Linu...|                  0|\n",
      "|    max|Mozilla/5.0 (X11;...|                  1|\n",
      "+-------+--------------------+-------------------+\n",
      "\n",
      "+-------+--------------------+------------------+\n",
      "|summary|                  ua|          is_click|\n",
      "+-------+--------------------+------------------+\n",
      "|  count|                 543|               543|\n",
      "|   mean|                null|0.5174953959484346|\n",
      "| stddev|                null|0.5001545770994442|\n",
      "|    min|Mozilla/5.0 (Linu...|                 0|\n",
      "|    max|Mozilla/5.0 (X11;...|                 1|\n",
      "+-------+--------------------+------------------+\n",
      "\n"
     ]
    },
    {
     "data": {
      "text/plain": [
       "df = [ua: string, is_click: string]\n",
       "excluded = Array(Mozilla/5.0 (Windows NT 10.0; Win64; x64) AppleWebKit/537.36 (KHTML, like Gecko) Chrome/60.0.3112.113 Safari/537.36, Mozilla/5.0 (Windows NT 6.1; Win64; x64) AppleWebKit/537.36 (KHTML, like Gecko) Chrome/60.0.3112.90 Safari/537.36, Mozilla/5.0 (X11; Linux x86_64) AppleWebKit/537.36 (KHTML, like Gecko) Chrome/44.0.2403.157 Safari/537.36, Mozilla/5.0 (Windows NT 5.1; Win64; x64) AppleWebKit/537.36 (KHTML, like Gecko) Chrome/60.0.3112.90 Safari/537.36, Mozilla/5.0 (Windows NT 6.2; Win64; x64) AppleWebKit/537.36 (KHTML, like Gecko) Chrome/60.0.3112.90 Safari/537.36, Mozilla/5.0 (Windows NT 6.3; Win64; x64) AppleWebKit/537.36 (KHTML, like Gecko) Chrome/60.0.3112.113 Safari/537.36, Mozilla/5.0 ...\n"
      ]
     },
     "metadata": {},
     "output_type": "display_data"
    },
    {
     "data": {
      "text/plain": [
       "Array(Mozilla/5.0 (Windows NT 10.0; Win64; x64) AppleWebKit/537.36 (KHTML, like Gecko) Chrome/60.0.3112.113 Safari/537.36, Mozilla/5.0 (Windows NT 6.1; Win64; x64) AppleWebKit/537.36 (KHTML, like Gecko) Chrome/60.0.3112.90 Safari/537.36, Mozilla/5.0 (X11; Linux x86_64) AppleWebKit/537.36 (KHTML, like Gecko) Chrome/44.0.2403.157 Safari/537.36, Mozilla/5.0 (Windows NT 5.1; Win64; x64) AppleWebKit/537.36 (KHTML, like Gecko) Chrome/60.0.3112.90 Safari/537.36, Mozilla/5.0 (Windows NT 6.2; Win64; x64) AppleWebKit/537.36 (KHTML, like Gecko) Chrome/60.0.3112.90 Safari/537.36, Mozilla/5.0 (Windows NT 6.3; Win64; x64) AppleWebKit/537.36 (KHTML, like Gecko) Chrome/60.0.3112.113 Safari/537.36, Mozilla/5.0 ..."
      ]
     },
     "execution_count": 2,
     "metadata": {},
     "output_type": "execute_result"
    }
   ],
   "source": [
    "val df = spark.read.format(\"csv\").option(\"header\", \"true\").load(\"../data/ua_reactions.csv\")\n",
    "val excluded = sc.textFile(\"../data/excluded.txt\").collect()\n",
    "df.describe().show()\n",
    "\n",
    "val exlude: (String => Boolean) = (s: String) => !excluded.contains(s)\n",
    "val udfFiltering = udf(exlude)\n",
    "val filtered = df.filter(udfFiltering($\"ua\"))\n",
    "filtered.describe().show()"
   ]
  },
  {
   "cell_type": "markdown",
   "metadata": {},
   "source": [
    "## Задача №1\n",
    "Взять все UA для которых было больше 5 показов рекламы посчитать CTR (clicks / shows) для каждого UA и вывести топ 5."
   ]
  },
  {
   "cell_type": "code",
   "execution_count": 3,
   "metadata": {},
   "outputs": [
    {
     "name": "stdout",
     "output_type": "stream",
     "text": [
      "+--------------------+------+-----+----+\n",
      "|                  ua|clicks|shows| ctr|\n",
      "+--------------------+------+-----+----+\n",
      "|Mozilla/5.0 (Wind...|   5.0|    6|0.83|\n",
      "|Mozilla/5.0 (Wind...|  11.0|   14|0.79|\n",
      "|Mozilla/5.0 (Linu...|  16.0|   22|0.73|\n",
      "|Mozilla/5.0 (Linu...|  11.0|   16|0.69|\n",
      "|Mozilla/5.0 (Wind...|  14.0|   21|0.67|\n",
      "+--------------------+------+-----+----+\n",
      "\n"
     ]
    }
   ],
   "source": [
    "filtered\n",
    "    .groupBy(\"ua\")\n",
    "    .agg(\n",
    "        sum($\"is_click\").alias(\"clicks\"), \n",
    "        count($\"*\").alias(\"shows\"))\n",
    "    .withColumn(\n",
    "        \"ctr\", \n",
    "        round($\"clicks\" / $\"shows\", 2))\n",
    "    .where($\"shows\" > 5)\n",
    "    .sort($\"ctr\".desc)\n",
    "    .limit(5)\n",
    "    .show()"
   ]
  },
  {
   "cell_type": "markdown",
   "metadata": {},
   "source": [
    "## Задача №2\n",
    "Вывести все UA на которых приходится 50% рекламных показов."
   ]
  },
  {
   "cell_type": "code",
   "execution_count": 5,
   "metadata": {},
   "outputs": [
    {
     "name": "stdout",
     "output_type": "stream",
     "text": [
      "+--------------------+-----+--------+------------+\n",
      "|                  ua|shows|fraction|cum_sum_frac|\n",
      "+--------------------+-----+--------+------------+\n",
      "|Mozilla/5.0 (Wind...|   30|   5.525|       5.525|\n",
      "|Mozilla/5.0 (Wind...|   29|   5.341|      10.866|\n",
      "|Mozilla/5.0 (Linu...|   28|   5.157|      16.023|\n",
      "|Mozilla/5.0 (Wind...|   27|   4.972|      20.995|\n",
      "|Mozilla/5.0 (Wind...|   27|   4.972|      25.967|\n",
      "|Mozilla/5.0 (Wind...|   26|   4.788|      30.755|\n",
      "|Mozilla/5.0 (Wind...|   25|   4.604|      35.359|\n",
      "|Mozilla/5.0 (Wind...|   25|   4.604|      39.963|\n",
      "|Mozilla/5.0 (Wind...|   24|    4.42|      44.383|\n",
      "|Mozilla/5.0 (Linu...|   23|   4.236|      48.619|\n",
      "+--------------------+-----+--------+------------+\n",
      "\n"
     ]
    },
    {
     "data": {
      "text/plain": [
       "w = org.apache.spark.sql.expressions.WindowSpec@7c99bc9e\n"
      ]
     },
     "metadata": {},
     "output_type": "display_data"
    },
    {
     "data": {
      "text/plain": [
       "org.apache.spark.sql.expressions.WindowSpec@7c99bc9e"
      ]
     },
     "execution_count": 5,
     "metadata": {},
     "output_type": "execute_result"
    }
   ],
   "source": [
    "val w = Window\n",
    "    .orderBy($\"fraction\".desc)\n",
    "    .rowsBetween(Window.unboundedPreceding, Window.currentRow)\n",
    "\n",
    "filtered\n",
    "    .groupBy(\"ua\")\n",
    "    .agg( \n",
    "        count($\"*\").alias(\"shows\"))\n",
    "    .withColumn(\n",
    "        \"fraction\", \n",
    "        round(($\"shows\" / sum($\"shows\").over()) * 100, 3))\n",
    "    .sort($\"fraction\".desc)\n",
    "    .withColumn(\n",
    "        \"cum_sum_frac\", \n",
    "        round(sum($\"fraction\").over(w), 3))\n",
    "    .where($\"cum_sum_frac\" <= 50)\n",
    "    .show()"
   ]
  }
 ],
 "metadata": {
  "kernelspec": {
   "display_name": "Apache Toree - Scala",
   "language": "scala",
   "name": "apache_toree_scala"
  },
  "language_info": {
   "codemirror_mode": "text/x-scala",
   "file_extension": ".scala",
   "mimetype": "text/x-scala",
   "name": "scala",
   "pygments_lexer": "scala",
   "version": "2.11.12"
  }
 },
 "nbformat": 4,
 "nbformat_minor": 2
}
